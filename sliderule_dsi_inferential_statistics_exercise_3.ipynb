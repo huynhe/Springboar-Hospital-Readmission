{
 "cells": [
  {
   "cell_type": "markdown",
   "metadata": {},
   "source": [
    "# Hospital Readmissions Data Analysis and Recommendations for Reduction\n",
    "\n",
    "### Background\n",
    "In October 2012, the US government's Center for Medicare and Medicaid Services (CMS) began reducing Medicare payments for Inpatient Prospective Payment System hospitals with excess readmissions. Excess readmissions are measured by a ratio, by dividing a hospital’s number of “predicted” 30-day readmissions for heart attack, heart failure, and pneumonia by the number that would be “expected,” based on an average hospital with similar patients. A ratio greater than 1 indicates excess readmissions.\n",
    "\n",
    "### Exercise Directions\n",
    "\n",
    "In this exercise, you will:\n",
    "+ critique a preliminary analysis of readmissions data and recommendations (provided below) for reducing the readmissions rate\n",
    "+ construct a statistically sound analysis and make recommendations of your own \n",
    "\n",
    "More instructions provided below. Include your work **in this notebook and submit to your Github account**. \n",
    "\n",
    "### Resources\n",
    "+ Data source: https://data.medicare.gov/Hospital-Compare/Hospital-Readmission-Reduction/9n3s-kdb3\n",
    "+ More information: http://www.cms.gov/Medicare/medicare-fee-for-service-payment/acuteinpatientPPS/readmissions-reduction-program.html\n",
    "+ Markdown syntax: http://nestacms.com/docs/creating-content/markdown-cheat-sheet\n",
    "****"
   ]
  },
  {
   "cell_type": "code",
   "execution_count": 1,
   "metadata": {},
   "outputs": [],
   "source": [
    "%matplotlib inline\n",
    "\n",
    "import pandas as pd\n",
    "import numpy as np\n",
    "import matplotlib.pyplot as plt\n",
    "import bokeh.plotting as bkp\n",
    "from mpl_toolkits.axes_grid1 import make_axes_locatable"
   ]
  },
  {
   "cell_type": "code",
   "execution_count": 2,
   "metadata": {},
   "outputs": [],
   "source": [
    "# read in readmissions data provided\n",
    "hospital_read_df = pd.read_csv('data/cms_hospital_readmissions.csv')"
   ]
  },
  {
   "cell_type": "code",
   "execution_count": 3,
   "metadata": {
    "scrolled": false
   },
   "outputs": [
    {
     "data": {
      "text/html": [
       "<div>\n",
       "<style scoped>\n",
       "    .dataframe tbody tr th:only-of-type {\n",
       "        vertical-align: middle;\n",
       "    }\n",
       "\n",
       "    .dataframe tbody tr th {\n",
       "        vertical-align: top;\n",
       "    }\n",
       "\n",
       "    .dataframe thead th {\n",
       "        text-align: right;\n",
       "    }\n",
       "</style>\n",
       "<table border=\"1\" class=\"dataframe\">\n",
       "  <thead>\n",
       "    <tr style=\"text-align: right;\">\n",
       "      <th></th>\n",
       "      <th>Hospital Name</th>\n",
       "      <th>Provider Number</th>\n",
       "      <th>State</th>\n",
       "      <th>Measure Name</th>\n",
       "      <th>Number of Discharges</th>\n",
       "      <th>Footnote</th>\n",
       "      <th>Excess Readmission Ratio</th>\n",
       "      <th>Predicted Readmission Rate</th>\n",
       "      <th>Expected Readmission Rate</th>\n",
       "      <th>Number of Readmissions</th>\n",
       "      <th>Start Date</th>\n",
       "      <th>End Date</th>\n",
       "    </tr>\n",
       "  </thead>\n",
       "  <tbody>\n",
       "    <tr>\n",
       "      <th>0</th>\n",
       "      <td>FROEDTERT MEMORIAL LUTHERAN HOSPITAL</td>\n",
       "      <td>520177</td>\n",
       "      <td>WI</td>\n",
       "      <td>READM-30-HIP-KNEE-HRRP</td>\n",
       "      <td>242</td>\n",
       "      <td>NaN</td>\n",
       "      <td>1.9095</td>\n",
       "      <td>10.8</td>\n",
       "      <td>5.6</td>\n",
       "      <td>38.0</td>\n",
       "      <td>07/01/2010</td>\n",
       "      <td>06/30/2013</td>\n",
       "    </tr>\n",
       "    <tr>\n",
       "      <th>1</th>\n",
       "      <td>PROVIDENCE HOSPITAL</td>\n",
       "      <td>90006</td>\n",
       "      <td>DC</td>\n",
       "      <td>READM-30-HIP-KNEE-HRRP</td>\n",
       "      <td>247</td>\n",
       "      <td>NaN</td>\n",
       "      <td>1.7521</td>\n",
       "      <td>9.2</td>\n",
       "      <td>5.3</td>\n",
       "      <td>33.0</td>\n",
       "      <td>07/01/2010</td>\n",
       "      <td>06/30/2013</td>\n",
       "    </tr>\n",
       "    <tr>\n",
       "      <th>2</th>\n",
       "      <td>BEAUFORT COUNTY MEMORIAL HOSPITAL</td>\n",
       "      <td>420067</td>\n",
       "      <td>SC</td>\n",
       "      <td>READM-30-HIP-KNEE-HRRP</td>\n",
       "      <td>586</td>\n",
       "      <td>NaN</td>\n",
       "      <td>1.5836</td>\n",
       "      <td>7.6</td>\n",
       "      <td>4.8</td>\n",
       "      <td>53.0</td>\n",
       "      <td>07/01/2010</td>\n",
       "      <td>06/30/2013</td>\n",
       "    </tr>\n",
       "    <tr>\n",
       "      <th>3</th>\n",
       "      <td>ADVOCATE CHRIST HOSPITAL &amp; MEDICAL CENTER</td>\n",
       "      <td>140208</td>\n",
       "      <td>IL</td>\n",
       "      <td>READM-30-HIP-KNEE-HRRP</td>\n",
       "      <td>965</td>\n",
       "      <td>NaN</td>\n",
       "      <td>1.5760</td>\n",
       "      <td>9.0</td>\n",
       "      <td>5.7</td>\n",
       "      <td>95.0</td>\n",
       "      <td>07/01/2010</td>\n",
       "      <td>06/30/2013</td>\n",
       "    </tr>\n",
       "    <tr>\n",
       "      <th>4</th>\n",
       "      <td>BRAZOSPORT REGIONAL HEALTH SYSTEM</td>\n",
       "      <td>450072</td>\n",
       "      <td>TX</td>\n",
       "      <td>READM-30-HIP-KNEE-HRRP</td>\n",
       "      <td>149</td>\n",
       "      <td>NaN</td>\n",
       "      <td>1.5308</td>\n",
       "      <td>8.2</td>\n",
       "      <td>5.4</td>\n",
       "      <td>20.0</td>\n",
       "      <td>07/01/2010</td>\n",
       "      <td>06/30/2013</td>\n",
       "    </tr>\n",
       "  </tbody>\n",
       "</table>\n",
       "</div>"
      ],
      "text/plain": [
       "                               Hospital Name  Provider Number State  \\\n",
       "0       FROEDTERT MEMORIAL LUTHERAN HOSPITAL           520177    WI   \n",
       "1                        PROVIDENCE HOSPITAL            90006    DC   \n",
       "2          BEAUFORT COUNTY MEMORIAL HOSPITAL           420067    SC   \n",
       "3  ADVOCATE CHRIST HOSPITAL & MEDICAL CENTER           140208    IL   \n",
       "4          BRAZOSPORT REGIONAL HEALTH SYSTEM           450072    TX   \n",
       "\n",
       "             Measure Name Number of Discharges  Footnote  \\\n",
       "0  READM-30-HIP-KNEE-HRRP                  242       NaN   \n",
       "1  READM-30-HIP-KNEE-HRRP                  247       NaN   \n",
       "2  READM-30-HIP-KNEE-HRRP                  586       NaN   \n",
       "3  READM-30-HIP-KNEE-HRRP                  965       NaN   \n",
       "4  READM-30-HIP-KNEE-HRRP                  149       NaN   \n",
       "\n",
       "   Excess Readmission Ratio  Predicted Readmission Rate  \\\n",
       "0                    1.9095                        10.8   \n",
       "1                    1.7521                         9.2   \n",
       "2                    1.5836                         7.6   \n",
       "3                    1.5760                         9.0   \n",
       "4                    1.5308                         8.2   \n",
       "\n",
       "   Expected Readmission Rate  Number of Readmissions  Start Date    End Date  \n",
       "0                        5.6                    38.0  07/01/2010  06/30/2013  \n",
       "1                        5.3                    33.0  07/01/2010  06/30/2013  \n",
       "2                        4.8                    53.0  07/01/2010  06/30/2013  \n",
       "3                        5.7                    95.0  07/01/2010  06/30/2013  \n",
       "4                        5.4                    20.0  07/01/2010  06/30/2013  "
      ]
     },
     "execution_count": 3,
     "metadata": {},
     "output_type": "execute_result"
    }
   ],
   "source": [
    "hospital_read_df.head()"
   ]
  },
  {
   "cell_type": "markdown",
   "metadata": {},
   "source": [
    "****\n",
    "## Preliminary Analysis"
   ]
  },
  {
   "cell_type": "code",
   "execution_count": 3,
   "metadata": {},
   "outputs": [
    {
     "name": "stderr",
     "output_type": "stream",
     "text": [
      "C:\\Users\\Eric\\Anaconda3\\lib\\site-packages\\pandas\\core\\indexing.py:537: SettingWithCopyWarning: \n",
      "A value is trying to be set on a copy of a slice from a DataFrame.\n",
      "Try using .loc[row_indexer,col_indexer] = value instead\n",
      "\n",
      "See the caveats in the documentation: http://pandas.pydata.org/pandas-docs/stable/indexing.html#indexing-view-versus-copy\n",
      "  self.obj[item] = s\n"
     ]
    }
   ],
   "source": [
    "# deal with missing and inconvenient portions of data \n",
    "clean_hospital_read_df = hospital_read_df[hospital_read_df['Number of Discharges'] != 'Not Available']\n",
    "clean_hospital_read_df.loc[:, 'Number of Discharges'] = clean_hospital_read_df['Number of Discharges'].astype(int)\n",
    "clean_hospital_read_df = clean_hospital_read_df.sort_values('Number of Discharges')"
   ]
  },
  {
   "cell_type": "code",
   "execution_count": 118,
   "metadata": {},
   "outputs": [
    {
     "data": {
      "image/png": "[encoded data removed]",
      "text/plain": [
       "<matplotlib.figure.Figure at 0x2a8dc5a21d0>"
      ]
     },
     "metadata": {},
     "output_type": "display_data"
    }
   ],
   "source": [
    "# generate a scatterplot for number of discharges vs. excess rate of readmissions\n",
    "# lists work better with matplotlib scatterplot function\n",
    "x = [a for a in clean_hospital_read_df['Number of Discharges'][81:-3]]\n",
    "y = list(clean_hospital_read_df['Excess Readmission Ratio'][81:-3])\n",
    "\n",
    "fig, ax = plt.subplots(figsize=(8,5))\n",
    "ax.scatter(x, y,alpha=0.2)\n",
    "\n",
    "ax.fill_between([0,350], 1.15, 2, facecolor='red', alpha = .15, interpolate=True)\n",
    "ax.fill_between([800,2500], .5, .95, facecolor='green', alpha = .15, interpolate=True)\n",
    "\n",
    "ax.set_xlim([0, max(x)])\n",
    "ax.set_xlabel('Number of discharges', fontsize=12)\n",
    "ax.set_ylabel('Excess rate of readmissions', fontsize=12)\n",
    "ax.set_title('Scatterplot of number of discharges vs. excess rate of readmissions', fontsize=14)\n",
    "\n",
    "ax.grid(True)\n",
    "fig.tight_layout()"
   ]
  },
  {
   "cell_type": "markdown",
   "metadata": {},
   "source": [
    "****\n",
    "\n",
    "## Preliminary Report\n",
    "\n",
    "Read the following results/report. While you are reading it, think about if the conclusions are correct, incorrect, misleading or unfounded. Think about what you would change or what additional analyses you would perform.\n",
    "\n",
    "**A. Initial observations based on the plot above**\n",
    "+ Overall, rate of readmissions is trending down with increasing number of discharges\n",
    "+ With lower number of discharges, there is a greater incidence of excess rate of readmissions (area shaded red)\n",
    "+ With higher number of discharges, there is a greater incidence of lower rates of readmissions (area shaded green) \n",
    "\n",
    "**B. Statistics**\n",
    "+ In hospitals/facilities with number of discharges < 100, mean excess readmission rate is 1.023 and 63% have excess readmission rate greater than 1 \n",
    "+ In hospitals/facilities with number of discharges > 1000, mean excess readmission rate is 0.978 and 44% have excess readmission rate greater than 1 \n",
    "\n",
    "**C. Conclusions**\n",
    "+ There is a significant correlation between hospital capacity (number of discharges) and readmission rates. \n",
    "+ Smaller hospitals/facilities may be lacking necessary resources to ensure quality care and prevent complications that lead to readmissions.\n",
    "\n",
    "**D. Regulatory policy recommendations**\n",
    "+ Hospitals/facilties with small capacity (< 300) should be required to demonstrate upgraded resource allocation for quality care to continue operation.\n",
    "+ Directives and incentives should be provided for consolidation of hospitals and facilities to have a smaller number of them with higher capacity and number of discharges."
   ]
  },
  {
   "cell_type": "markdown",
   "metadata": {},
   "source": [
    "****\n",
    "### Exercise\n",
    "\n",
    "Include your work on the following **in this notebook and submit to your Github account**. \n",
    "\n",
    "A. Do you agree with the above analysis and recommendations? Why or why not?\n",
    "   \n",
    "B. Provide support for your arguments and your own recommendations with a statistically sound analysis:\n",
    "\n",
    "   1. Setup an appropriate hypothesis test.\n",
    "   2. Compute and report the observed significance value (or p-value).\n",
    "   3. Report statistical significance for $\\alpha$ = .01. \n",
    "   4. Discuss statistical significance and practical significance. Do they differ here? How does this change your recommendation to the client?\n",
    "   5. Look at the scatterplot above. \n",
    "      - What are the advantages and disadvantages of using this plot to convey information?\n",
    "      - Construct another plot that conveys the same information in a more direct manner.\n",
    "\n",
    "\n",
    "\n",
    "You can compose in notebook cells using Markdown: \n",
    "+ In the control panel at the top, choose Cell > Cell Type > Markdown\n",
    "+ Markdown syntax: http://nestacms.com/docs/creating-content/markdown-cheat-sheet\n",
    "****"
   ]
  },
  {
   "cell_type": "code",
   "execution_count": 15,
   "metadata": {},
   "outputs": [
    {
     "data": {
      "text/plain": [
       "array(['FROEDTERT MEMORIAL LUTHERAN HOSPITAL', 'PROVIDENCE HOSPITAL',\n",
       "       'BEAUFORT COUNTY MEMORIAL HOSPITAL', ..., 'COLUMBIA CENTER',\n",
       "       'BAYLOR EMERGENCY MEDICAL CENTER', 'CAPITAL HOSPICE'], dtype=object)"
      ]
     },
     "execution_count": 15,
     "metadata": {},
     "output_type": "execute_result"
    }
   ],
   "source": [
    "hospital_read_df['Hospital Name'].unique()"
   ]
  },
  {
   "cell_type": "code",
   "execution_count": 12,
   "metadata": {},
   "outputs": [
    {
     "data": {
      "text/html": [
       "<div>\n",
       "<style scoped>\n",
       "    .dataframe tbody tr th:only-of-type {\n",
       "        vertical-align: middle;\n",
       "    }\n",
       "\n",
       "    .dataframe tbody tr th {\n",
       "        vertical-align: top;\n",
       "    }\n",
       "\n",
       "    .dataframe thead th {\n",
       "        text-align: right;\n",
       "    }\n",
       "</style>\n",
       "<table border=\"1\" class=\"dataframe\">\n",
       "  <thead>\n",
       "    <tr style=\"text-align: right;\">\n",
       "      <th></th>\n",
       "      <th>Hospital Name</th>\n",
       "      <th>Provider Number</th>\n",
       "      <th>State</th>\n",
       "      <th>Measure Name</th>\n",
       "      <th>Number of Discharges</th>\n",
       "      <th>Footnote</th>\n",
       "      <th>Excess Readmission Ratio</th>\n",
       "      <th>Predicted Readmission Rate</th>\n",
       "      <th>Expected Readmission Rate</th>\n",
       "      <th>Number of Readmissions</th>\n",
       "      <th>Start Date</th>\n",
       "      <th>End Date</th>\n",
       "    </tr>\n",
       "  </thead>\n",
       "  <tbody>\n",
       "    <tr>\n",
       "      <th>2549</th>\n",
       "      <td>PROVIDENCE HOSPITAL</td>\n",
       "      <td>90006</td>\n",
       "      <td>DC</td>\n",
       "      <td>READM-30-HF-HRRP</td>\n",
       "      <td>659</td>\n",
       "      <td>NaN</td>\n",
       "      <td>1.0711</td>\n",
       "      <td>24.1</td>\n",
       "      <td>22.5</td>\n",
       "      <td>163.0</td>\n",
       "      <td>07/01/2010</td>\n",
       "      <td>06/30/2013</td>\n",
       "    </tr>\n",
       "    <tr>\n",
       "      <th>1595</th>\n",
       "      <td>PROVIDENCE HOSPITAL</td>\n",
       "      <td>90006</td>\n",
       "      <td>DC</td>\n",
       "      <td>READM-30-AMI-HRRP</td>\n",
       "      <td>61</td>\n",
       "      <td>NaN</td>\n",
       "      <td>1.0995</td>\n",
       "      <td>22.3</td>\n",
       "      <td>20.3</td>\n",
       "      <td>19.0</td>\n",
       "      <td>07/01/2010</td>\n",
       "      <td>06/30/2013</td>\n",
       "    </tr>\n",
       "    <tr>\n",
       "      <th>11135</th>\n",
       "      <td>PROVIDENCE HOSPITAL</td>\n",
       "      <td>10090</td>\n",
       "      <td>AL</td>\n",
       "      <td>READM-30-HF-HRRP</td>\n",
       "      <td>605</td>\n",
       "      <td>NaN</td>\n",
       "      <td>0.9337</td>\n",
       "      <td>20.3</td>\n",
       "      <td>21.8</td>\n",
       "      <td>119.0</td>\n",
       "      <td>07/01/2010</td>\n",
       "      <td>06/30/2013</td>\n",
       "    </tr>\n",
       "    <tr>\n",
       "      <th>2935</th>\n",
       "      <td>PROVIDENCE HOSPITAL</td>\n",
       "      <td>10090</td>\n",
       "      <td>AL</td>\n",
       "      <td>READM-30-PN-HRRP</td>\n",
       "      <td>559</td>\n",
       "      <td>NaN</td>\n",
       "      <td>1.0625</td>\n",
       "      <td>17.2</td>\n",
       "      <td>16.2</td>\n",
       "      <td>100.0</td>\n",
       "      <td>07/01/2010</td>\n",
       "      <td>06/30/2013</td>\n",
       "    </tr>\n",
       "    <tr>\n",
       "      <th>422</th>\n",
       "      <td>PROVIDENCE HOSPITAL</td>\n",
       "      <td>10090</td>\n",
       "      <td>AL</td>\n",
       "      <td>READM-30-HIP-KNEE-HRRP</td>\n",
       "      <td>550</td>\n",
       "      <td>NaN</td>\n",
       "      <td>1.1835</td>\n",
       "      <td>6.2</td>\n",
       "      <td>5.2</td>\n",
       "      <td>37.0</td>\n",
       "      <td>07/01/2010</td>\n",
       "      <td>06/30/2013</td>\n",
       "    </tr>\n",
       "    <tr>\n",
       "      <th>9250</th>\n",
       "      <td>PROVIDENCE HOSPITAL</td>\n",
       "      <td>10090</td>\n",
       "      <td>AL</td>\n",
       "      <td>READM-30-COPD-HRRP</td>\n",
       "      <td>424</td>\n",
       "      <td>NaN</td>\n",
       "      <td>0.9653</td>\n",
       "      <td>19.0</td>\n",
       "      <td>19.7</td>\n",
       "      <td>78.0</td>\n",
       "      <td>07/01/2010</td>\n",
       "      <td>06/30/2013</td>\n",
       "    </tr>\n",
       "    <tr>\n",
       "      <th>1748</th>\n",
       "      <td>PROVIDENCE HOSPITAL</td>\n",
       "      <td>90006</td>\n",
       "      <td>DC</td>\n",
       "      <td>READM-30-COPD-HRRP</td>\n",
       "      <td>299</td>\n",
       "      <td>NaN</td>\n",
       "      <td>1.0944</td>\n",
       "      <td>22.5</td>\n",
       "      <td>20.5</td>\n",
       "      <td>74.0</td>\n",
       "      <td>07/01/2010</td>\n",
       "      <td>06/30/2013</td>\n",
       "    </tr>\n",
       "    <tr>\n",
       "      <th>1</th>\n",
       "      <td>PROVIDENCE HOSPITAL</td>\n",
       "      <td>90006</td>\n",
       "      <td>DC</td>\n",
       "      <td>READM-30-HIP-KNEE-HRRP</td>\n",
       "      <td>247</td>\n",
       "      <td>NaN</td>\n",
       "      <td>1.7521</td>\n",
       "      <td>9.2</td>\n",
       "      <td>5.3</td>\n",
       "      <td>33.0</td>\n",
       "      <td>07/01/2010</td>\n",
       "      <td>06/30/2013</td>\n",
       "    </tr>\n",
       "    <tr>\n",
       "      <th>10849</th>\n",
       "      <td>PROVIDENCE HOSPITAL</td>\n",
       "      <td>90006</td>\n",
       "      <td>DC</td>\n",
       "      <td>READM-30-PN-HRRP</td>\n",
       "      <td>241</td>\n",
       "      <td>NaN</td>\n",
       "      <td>0.9394</td>\n",
       "      <td>16.1</td>\n",
       "      <td>17.1</td>\n",
       "      <td>35.0</td>\n",
       "      <td>07/01/2010</td>\n",
       "      <td>06/30/2013</td>\n",
       "    </tr>\n",
       "    <tr>\n",
       "      <th>9276</th>\n",
       "      <td>PROVIDENCE HOSPITAL</td>\n",
       "      <td>10090</td>\n",
       "      <td>AL</td>\n",
       "      <td>READM-30-AMI-HRRP</td>\n",
       "      <td>225</td>\n",
       "      <td>NaN</td>\n",
       "      <td>0.9649</td>\n",
       "      <td>15.0</td>\n",
       "      <td>15.6</td>\n",
       "      <td>32.0</td>\n",
       "      <td>07/01/2010</td>\n",
       "      <td>06/30/2013</td>\n",
       "    </tr>\n",
       "  </tbody>\n",
       "</table>\n",
       "</div>"
      ],
      "text/plain": [
       "             Hospital Name  Provider Number State            Measure Name  \\\n",
       "2549   PROVIDENCE HOSPITAL            90006    DC        READM-30-HF-HRRP   \n",
       "1595   PROVIDENCE HOSPITAL            90006    DC       READM-30-AMI-HRRP   \n",
       "11135  PROVIDENCE HOSPITAL            10090    AL        READM-30-HF-HRRP   \n",
       "2935   PROVIDENCE HOSPITAL            10090    AL        READM-30-PN-HRRP   \n",
       "422    PROVIDENCE HOSPITAL            10090    AL  READM-30-HIP-KNEE-HRRP   \n",
       "9250   PROVIDENCE HOSPITAL            10090    AL      READM-30-COPD-HRRP   \n",
       "1748   PROVIDENCE HOSPITAL            90006    DC      READM-30-COPD-HRRP   \n",
       "1      PROVIDENCE HOSPITAL            90006    DC  READM-30-HIP-KNEE-HRRP   \n",
       "10849  PROVIDENCE HOSPITAL            90006    DC        READM-30-PN-HRRP   \n",
       "9276   PROVIDENCE HOSPITAL            10090    AL       READM-30-AMI-HRRP   \n",
       "\n",
       "      Number of Discharges  Footnote  Excess Readmission Ratio  \\\n",
       "2549                   659       NaN                    1.0711   \n",
       "1595                    61       NaN                    1.0995   \n",
       "11135                  605       NaN                    0.9337   \n",
       "2935                   559       NaN                    1.0625   \n",
       "422                    550       NaN                    1.1835   \n",
       "9250                   424       NaN                    0.9653   \n",
       "1748                   299       NaN                    1.0944   \n",
       "1                      247       NaN                    1.7521   \n",
       "10849                  241       NaN                    0.9394   \n",
       "9276                   225       NaN                    0.9649   \n",
       "\n",
       "       Predicted Readmission Rate  Expected Readmission Rate  \\\n",
       "2549                         24.1                       22.5   \n",
       "1595                         22.3                       20.3   \n",
       "11135                        20.3                       21.8   \n",
       "2935                         17.2                       16.2   \n",
       "422                           6.2                        5.2   \n",
       "9250                         19.0                       19.7   \n",
       "1748                         22.5                       20.5   \n",
       "1                             9.2                        5.3   \n",
       "10849                        16.1                       17.1   \n",
       "9276                         15.0                       15.6   \n",
       "\n",
       "       Number of Readmissions  Start Date    End Date  \n",
       "2549                    163.0  07/01/2010  06/30/2013  \n",
       "1595                     19.0  07/01/2010  06/30/2013  \n",
       "11135                   119.0  07/01/2010  06/30/2013  \n",
       "2935                    100.0  07/01/2010  06/30/2013  \n",
       "422                      37.0  07/01/2010  06/30/2013  \n",
       "9250                     78.0  07/01/2010  06/30/2013  \n",
       "1748                     74.0  07/01/2010  06/30/2013  \n",
       "1                        33.0  07/01/2010  06/30/2013  \n",
       "10849                    35.0  07/01/2010  06/30/2013  \n",
       "9276                     32.0  07/01/2010  06/30/2013  "
      ]
     },
     "execution_count": 12,
     "metadata": {},
     "output_type": "execute_result"
    }
   ],
   "source": [
    "hospital_read_df[hospital_read_df['Hospital Name']=='PROVIDENCE HOSPITAL'].sort_values('Number of Discharges', ascending=False)"
   ]
  },
  {
   "cell_type": "markdown",
   "metadata": {
    "collapsed": true
   },
   "source": [
    "The analysis above draws a conclusion on significant correlation between hospital capacity (number of discharges) and excess readmission rate without providing any actual statistical testing. The recommendations also only address hospitals with smaller capacities (<300) which may not reduce the readmission rate that efficiently.\n",
    "\n",
    "The largest issue with the analysis is that it only checks the correlation between hospital capacity and the excess readmission rate. It fails to take the surgical procedure (measure name) and hospital names into consideration. Taking a closer look at the data, we can see that there is variance in the number of discharges for each hospital (e.g. Providence Hospital has listed discharges ranging from 61 to 659). Looking even further, we see that hospitals have multiple provider numbers that each have their own set of data so it might be a good idea to study the provider number instead of the hospital name.\n",
    "\n",
    "However, for this problem, we will simply study the correlation between hospital capacity and excess readmission rate and use statistical tests to show statistical significance. We will be using the cleaned dataframe with all the rows with missing values for number of discharges removed, but we will also be removing rows with missing values for the excess readmission ratio."
   ]
  },
  {
   "cell_type": "code",
   "execution_count": 11,
   "metadata": {
    "scrolled": false
   },
   "outputs": [
    {
     "name": "stdout",
     "output_type": "stream",
     "text": [
      "<class 'pandas.core.frame.DataFrame'>\n",
      "Int64Index: 11578 entries, 16857 to 13666\n",
      "Data columns (total 12 columns):\n",
      "Hospital Name                 11578 non-null object\n",
      "Provider Number               11578 non-null int64\n",
      "State                         11578 non-null object\n",
      "Measure Name                  11578 non-null object\n",
      "Number of Discharges          11578 non-null int32\n",
      "Footnote                      81 non-null float64\n",
      "Excess Readmission Ratio      11497 non-null float64\n",
      "Predicted Readmission Rate    11497 non-null float64\n",
      "Expected Readmission Rate     11497 non-null float64\n",
      "Number of Readmissions        11497 non-null float64\n",
      "Start Date                    11578 non-null object\n",
      "End Date                      11578 non-null object\n",
      "dtypes: float64(5), int32(1), int64(1), object(5)\n",
      "memory usage: 1.1+ MB\n"
     ]
    }
   ],
   "source": [
    "clean_hospital_read_df.info()"
   ]
  },
  {
   "cell_type": "code",
   "execution_count": 9,
   "metadata": {
    "scrolled": false
   },
   "outputs": [
    {
     "name": "stdout",
     "output_type": "stream",
     "text": [
      "<class 'pandas.core.frame.DataFrame'>\n",
      "Int64Index: 11497 entries, 1832 to 13666\n",
      "Data columns (total 12 columns):\n",
      "Hospital Name                 11497 non-null object\n",
      "Provider Number               11497 non-null int64\n",
      "State                         11497 non-null object\n",
      "Measure Name                  11497 non-null object\n",
      "Number of Discharges          11497 non-null int32\n",
      "Footnote                      0 non-null float64\n",
      "Excess Readmission Ratio      11497 non-null float64\n",
      "Predicted Readmission Rate    11497 non-null float64\n",
      "Expected Readmission Rate     11497 non-null float64\n",
      "Number of Readmissions        11497 non-null float64\n",
      "Start Date                    11497 non-null object\n",
      "End Date                      11497 non-null object\n",
      "dtypes: float64(5), int32(1), int64(1), object(5)\n",
      "memory usage: 1.1+ MB\n"
     ]
    }
   ],
   "source": [
    "cleaned_df = clean_hospital_read_df[clean_hospital_read_df['Excess Readmission Ratio'].isnull() == False]\n",
    "cleaned_df.info()\n",
    "\n",
    "# Cleaned data removed all 81 null values from all columns besides the Footnote column. However, it also removed all rows\n",
    "# with a non-null value for the footnotes."
   ]
  },
  {
   "cell_type": "markdown",
   "metadata": {},
   "source": [
    "We will first determine quantify the correlation between the two variables."
   ]
  },
  {
   "cell_type": "code",
   "execution_count": 11,
   "metadata": {},
   "outputs": [],
   "source": [
    "discharges = cleaned_df['Number of Discharges']\n",
    "readmission = cleaned_df['Excess Readmission Ratio']"
   ]
  },
  {
   "cell_type": "code",
   "execution_count": 13,
   "metadata": {
    "scrolled": true
   },
   "outputs": [
    {
     "name": "stdout",
     "output_type": "stream",
     "text": [
      "-0.09739794351079353\n"
     ]
    }
   ],
   "source": [
    "corr = np.corrcoef(discharges, readmission)[0,1]\n",
    "print (corr)"
   ]
  },
  {
   "cell_type": "markdown",
   "metadata": {},
   "source": [
    "### 1. Setup an appropriate hypothesis test."
   ]
  },
  {
   "cell_type": "markdown",
   "metadata": {},
   "source": [
    "It appears that there is a very slight negative correlation between the number of discharges and excess readmission ratios. We will now test if this correlation is statistically significant.\n",
    "\n",
    "\n",
    "Null Hypothesis (Ho) = two variables are not correlated\n",
    "\n",
    "\n",
    "Alternate Hypothesis (Ha) = two variables are correlated\n",
    "\n",
    "Alpha = 0.01"
   ]
  },
  {
   "cell_type": "markdown",
   "metadata": {},
   "source": [
    "### 2. Compute and report the observed significance value (or p-value)."
   ]
  },
  {
   "cell_type": "code",
   "execution_count": 20,
   "metadata": {
    "scrolled": true
   },
   "outputs": [
    {
     "name": "stdout",
     "output_type": "stream",
     "text": [
      "Frequency of trials with Pearson coefficient as extreme: 0.0\n"
     ]
    }
   ],
   "source": [
    "perm_trials = np.empty(10000)\n",
    "\n",
    "for i in range(10000):\n",
    "    discharges_permutated = np.random.permutation(discharges)\n",
    "    perm_trials[i] = np.corrcoef(discharges_permutated, readmission)[0,1]\n",
    "\n",
    "p = np.sum(perm_trials <= corr) / len(perm_trials)\n",
    "print ('Frequency of trials with Pearson coefficient as extreme:', p)"
   ]
  },
  {
   "cell_type": "markdown",
   "metadata": {},
   "source": [
    "### 3. Report statistical significance for  α  = .01."
   ]
  },
  {
   "cell_type": "markdown",
   "metadata": {},
   "source": [
    "Using the frequentist approach, we were able to determine that the negative correlation between the number of discharges and rate of readmission is in fact statistically significant (p-value = 0.0 < 0.01). "
   ]
  },
  {
   "cell_type": "markdown",
   "metadata": {},
   "source": [
    "We'll be splitting the dataset at \"Number of Discharges\" <= 300 and > 300 to determine if there is any statistically significant difference between them."
   ]
  },
  {
   "cell_type": "code",
   "execution_count": 25,
   "metadata": {},
   "outputs": [],
   "source": [
    "small_data = cleaned_df[cleaned_df['Number of Discharges'] <= 300]\n",
    "large_data = cleaned_df[cleaned_df['Number of Discharges'] > 300]"
   ]
  },
  {
   "cell_type": "code",
   "execution_count": 59,
   "metadata": {
    "scrolled": false
   },
   "outputs": [
    {
     "data": {
      "text/html": [
       "<div>\n",
       "<style scoped>\n",
       "    .dataframe tbody tr th:only-of-type {\n",
       "        vertical-align: middle;\n",
       "    }\n",
       "\n",
       "    .dataframe tbody tr th {\n",
       "        vertical-align: top;\n",
       "    }\n",
       "\n",
       "    .dataframe thead th {\n",
       "        text-align: right;\n",
       "    }\n",
       "</style>\n",
       "<table border=\"1\" class=\"dataframe\">\n",
       "  <thead>\n",
       "    <tr style=\"text-align: right;\">\n",
       "      <th></th>\n",
       "      <th>Provider Number</th>\n",
       "      <th>Number of Discharges</th>\n",
       "      <th>Footnote</th>\n",
       "      <th>Excess Readmission Ratio</th>\n",
       "      <th>Predicted Readmission Rate</th>\n",
       "      <th>Expected Readmission Rate</th>\n",
       "      <th>Number of Readmissions</th>\n",
       "    </tr>\n",
       "  </thead>\n",
       "  <tbody>\n",
       "    <tr>\n",
       "      <th>count</th>\n",
       "      <td>6132.000000</td>\n",
       "      <td>6132.000000</td>\n",
       "      <td>0.0</td>\n",
       "      <td>6132.000000</td>\n",
       "      <td>6132.000000</td>\n",
       "      <td>6132.000000</td>\n",
       "      <td>6132.000000</td>\n",
       "    </tr>\n",
       "    <tr>\n",
       "      <th>mean</th>\n",
       "      <td>258798.579419</td>\n",
       "      <td>170.018428</td>\n",
       "      <td>NaN</td>\n",
       "      <td>1.014261</td>\n",
       "      <td>18.561301</td>\n",
       "      <td>18.397489</td>\n",
       "      <td>31.311970</td>\n",
       "    </tr>\n",
       "    <tr>\n",
       "      <th>std</th>\n",
       "      <td>158435.946063</td>\n",
       "      <td>70.194140</td>\n",
       "      <td>NaN</td>\n",
       "      <td>0.082426</td>\n",
       "      <td>4.397300</td>\n",
       "      <td>4.247072</td>\n",
       "      <td>15.676909</td>\n",
       "    </tr>\n",
       "    <tr>\n",
       "      <th>min</th>\n",
       "      <td>10005.000000</td>\n",
       "      <td>25.000000</td>\n",
       "      <td>NaN</td>\n",
       "      <td>0.760200</td>\n",
       "      <td>4.200000</td>\n",
       "      <td>4.300000</td>\n",
       "      <td>11.000000</td>\n",
       "    </tr>\n",
       "    <tr>\n",
       "      <th>25%</th>\n",
       "      <td>110105.000000</td>\n",
       "      <td>111.000000</td>\n",
       "      <td>NaN</td>\n",
       "      <td>0.961175</td>\n",
       "      <td>16.700000</td>\n",
       "      <td>16.800000</td>\n",
       "      <td>18.000000</td>\n",
       "    </tr>\n",
       "    <tr>\n",
       "      <th>50%</th>\n",
       "      <td>250068.000000</td>\n",
       "      <td>167.000000</td>\n",
       "      <td>NaN</td>\n",
       "      <td>1.006950</td>\n",
       "      <td>19.100000</td>\n",
       "      <td>19.000000</td>\n",
       "      <td>29.000000</td>\n",
       "    </tr>\n",
       "    <tr>\n",
       "      <th>75%</th>\n",
       "      <td>390070.250000</td>\n",
       "      <td>228.000000</td>\n",
       "      <td>NaN</td>\n",
       "      <td>1.056600</td>\n",
       "      <td>21.300000</td>\n",
       "      <td>21.100000</td>\n",
       "      <td>42.000000</td>\n",
       "    </tr>\n",
       "    <tr>\n",
       "      <th>max</th>\n",
       "      <td>670082.000000</td>\n",
       "      <td>300.000000</td>\n",
       "      <td>NaN</td>\n",
       "      <td>1.909500</td>\n",
       "      <td>32.800000</td>\n",
       "      <td>28.000000</td>\n",
       "      <td>113.000000</td>\n",
       "    </tr>\n",
       "  </tbody>\n",
       "</table>\n",
       "</div>"
      ],
      "text/plain": [
       "       Provider Number  Number of Discharges  Footnote  \\\n",
       "count      6132.000000           6132.000000       0.0   \n",
       "mean     258798.579419            170.018428       NaN   \n",
       "std      158435.946063             70.194140       NaN   \n",
       "min       10005.000000             25.000000       NaN   \n",
       "25%      110105.000000            111.000000       NaN   \n",
       "50%      250068.000000            167.000000       NaN   \n",
       "75%      390070.250000            228.000000       NaN   \n",
       "max      670082.000000            300.000000       NaN   \n",
       "\n",
       "       Excess Readmission Ratio  Predicted Readmission Rate  \\\n",
       "count               6132.000000                 6132.000000   \n",
       "mean                   1.014261                   18.561301   \n",
       "std                    0.082426                    4.397300   \n",
       "min                    0.760200                    4.200000   \n",
       "25%                    0.961175                   16.700000   \n",
       "50%                    1.006950                   19.100000   \n",
       "75%                    1.056600                   21.300000   \n",
       "max                    1.909500                   32.800000   \n",
       "\n",
       "       Expected Readmission Rate  Number of Readmissions  \n",
       "count                6132.000000             6132.000000  \n",
       "mean                   18.397489               31.311970  \n",
       "std                     4.247072               15.676909  \n",
       "min                     4.300000               11.000000  \n",
       "25%                    16.800000               18.000000  \n",
       "50%                    19.000000               29.000000  \n",
       "75%                    21.100000               42.000000  \n",
       "max                    28.000000              113.000000  "
      ]
     },
     "execution_count": 59,
     "metadata": {},
     "output_type": "execute_result"
    }
   ],
   "source": [
    "small_data.describe()\n",
    "\n",
    "# This dataset has a total of 6132 datapoints"
   ]
  },
  {
   "cell_type": "code",
   "execution_count": 63,
   "metadata": {},
   "outputs": [
    {
     "name": "stdout",
     "output_type": "stream",
     "text": [
      "Readmissions in smaller facilities: 192005.0\n",
      "Readmissions in larger facilities: 539592.0\n"
     ]
    }
   ],
   "source": [
    "print('Readmissions in smaller facilities:', np.sum(small_data['Number of Readmissions']))\n",
    "print('Readmissions in larger facilities:', np.sum(large_data['Number of Readmissions']))"
   ]
  },
  {
   "cell_type": "code",
   "execution_count": 60,
   "metadata": {},
   "outputs": [
    {
     "data": {
      "text/html": [
       "<div>\n",
       "<style scoped>\n",
       "    .dataframe tbody tr th:only-of-type {\n",
       "        vertical-align: middle;\n",
       "    }\n",
       "\n",
       "    .dataframe tbody tr th {\n",
       "        vertical-align: top;\n",
       "    }\n",
       "\n",
       "    .dataframe thead th {\n",
       "        text-align: right;\n",
       "    }\n",
       "</style>\n",
       "<table border=\"1\" class=\"dataframe\">\n",
       "  <thead>\n",
       "    <tr style=\"text-align: right;\">\n",
       "      <th></th>\n",
       "      <th>Provider Number</th>\n",
       "      <th>Number of Discharges</th>\n",
       "      <th>Footnote</th>\n",
       "      <th>Excess Readmission Ratio</th>\n",
       "      <th>Predicted Readmission Rate</th>\n",
       "      <th>Expected Readmission Rate</th>\n",
       "      <th>Number of Readmissions</th>\n",
       "    </tr>\n",
       "  </thead>\n",
       "  <tbody>\n",
       "    <tr>\n",
       "      <th>count</th>\n",
       "      <td>5365.000000</td>\n",
       "      <td>5365.000000</td>\n",
       "      <td>0.0</td>\n",
       "      <td>5365.000000</td>\n",
       "      <td>5365.000000</td>\n",
       "      <td>5365.000000</td>\n",
       "      <td>5365.000000</td>\n",
       "    </tr>\n",
       "    <tr>\n",
       "      <th>mean</th>\n",
       "      <td>256169.078844</td>\n",
       "      <td>588.855918</td>\n",
       "      <td>NaN</td>\n",
       "      <td>0.999781</td>\n",
       "      <td>17.324790</td>\n",
       "      <td>17.257875</td>\n",
       "      <td>100.576328</td>\n",
       "    </tr>\n",
       "    <tr>\n",
       "      <th>std</th>\n",
       "      <td>149378.317672</td>\n",
       "      <td>324.182905</td>\n",
       "      <td>NaN</td>\n",
       "      <td>0.101234</td>\n",
       "      <td>6.451629</td>\n",
       "      <td>6.128106</td>\n",
       "      <td>68.974430</td>\n",
       "    </tr>\n",
       "    <tr>\n",
       "      <th>min</th>\n",
       "      <td>10001.000000</td>\n",
       "      <td>301.000000</td>\n",
       "      <td>NaN</td>\n",
       "      <td>0.549500</td>\n",
       "      <td>2.700000</td>\n",
       "      <td>3.900000</td>\n",
       "      <td>11.000000</td>\n",
       "    </tr>\n",
       "    <tr>\n",
       "      <th>25%</th>\n",
       "      <td>110191.000000</td>\n",
       "      <td>380.000000</td>\n",
       "      <td>NaN</td>\n",
       "      <td>0.938400</td>\n",
       "      <td>15.600000</td>\n",
       "      <td>16.300000</td>\n",
       "      <td>59.000000</td>\n",
       "    </tr>\n",
       "    <tr>\n",
       "      <th>50%</th>\n",
       "      <td>250004.000000</td>\n",
       "      <td>493.000000</td>\n",
       "      <td>NaN</td>\n",
       "      <td>0.998500</td>\n",
       "      <td>19.000000</td>\n",
       "      <td>19.000000</td>\n",
       "      <td>85.000000</td>\n",
       "    </tr>\n",
       "    <tr>\n",
       "      <th>75%</th>\n",
       "      <td>380089.000000</td>\n",
       "      <td>680.000000</td>\n",
       "      <td>NaN</td>\n",
       "      <td>1.060800</td>\n",
       "      <td>21.700000</td>\n",
       "      <td>21.700000</td>\n",
       "      <td>127.000000</td>\n",
       "    </tr>\n",
       "    <tr>\n",
       "      <th>max</th>\n",
       "      <td>670073.000000</td>\n",
       "      <td>6793.000000</td>\n",
       "      <td>NaN</td>\n",
       "      <td>1.583600</td>\n",
       "      <td>31.700000</td>\n",
       "      <td>26.500000</td>\n",
       "      <td>879.000000</td>\n",
       "    </tr>\n",
       "  </tbody>\n",
       "</table>\n",
       "</div>"
      ],
      "text/plain": [
       "       Provider Number  Number of Discharges  Footnote  \\\n",
       "count      5365.000000           5365.000000       0.0   \n",
       "mean     256169.078844            588.855918       NaN   \n",
       "std      149378.317672            324.182905       NaN   \n",
       "min       10001.000000            301.000000       NaN   \n",
       "25%      110191.000000            380.000000       NaN   \n",
       "50%      250004.000000            493.000000       NaN   \n",
       "75%      380089.000000            680.000000       NaN   \n",
       "max      670073.000000           6793.000000       NaN   \n",
       "\n",
       "       Excess Readmission Ratio  Predicted Readmission Rate  \\\n",
       "count               5365.000000                 5365.000000   \n",
       "mean                   0.999781                   17.324790   \n",
       "std                    0.101234                    6.451629   \n",
       "min                    0.549500                    2.700000   \n",
       "25%                    0.938400                   15.600000   \n",
       "50%                    0.998500                   19.000000   \n",
       "75%                    1.060800                   21.700000   \n",
       "max                    1.583600                   31.700000   \n",
       "\n",
       "       Expected Readmission Rate  Number of Readmissions  \n",
       "count                5365.000000             5365.000000  \n",
       "mean                   17.257875              100.576328  \n",
       "std                     6.128106               68.974430  \n",
       "min                     3.900000               11.000000  \n",
       "25%                    16.300000               59.000000  \n",
       "50%                    19.000000               85.000000  \n",
       "75%                    21.700000              127.000000  \n",
       "max                    26.500000              879.000000  "
      ]
     },
     "execution_count": 60,
     "metadata": {},
     "output_type": "execute_result"
    }
   ],
   "source": [
    "large_data.describe()\n",
    "\n",
    "# This dataset has a total of 5365 datapoints"
   ]
  },
  {
   "cell_type": "markdown",
   "metadata": {},
   "source": [
    "We will start with a quick graphical look at both datasets."
   ]
  },
  {
   "cell_type": "code",
   "execution_count": 29,
   "metadata": {},
   "outputs": [],
   "source": [
    "s_discharges = small_data['Number of Discharges']\n",
    "s_readmissions = small_data['Excess Readmission Ratio']\n",
    "\n",
    "l_discharges = large_data['Number of Discharges']\n",
    "l_readmissions = large_data['Excess Readmission Ratio']"
   ]
  },
  {
   "cell_type": "code",
   "execution_count": 114,
   "metadata": {
    "scrolled": false
   },
   "outputs": [
    {
     "data": {
      "image/png": "[encoded data removed]",
      "text/plain": [
       "<matplotlib.figure.Figure at 0x2a8dc660278>"
      ]
     },
     "metadata": {},
     "output_type": "display_data"
    }
   ],
   "source": [
    "fig, ax = plt.subplots(ncols=2, figsize = (10,5))\n",
    "\n",
    "ax[0].scatter(x=s_discharges, y=s_readmissions, alpha = 0.2, color='red')\n",
    "ax[0].set_title('Facility Capacity <= 300')\n",
    "ax[0].set_xlabel('Number of Discharges')\n",
    "ax[0].set_ylabel('Excess Readmission Ratio')\n",
    "ax[0].set_ylim([0.5, 2.0])\n",
    "\n",
    "\n",
    "ax[1].scatter(x=l_discharges, y=l_readmissions, alpha = 0.2, color='blue')\n",
    "ax[1].set_title('Facility Capacity > 300')\n",
    "ax[1].set_xlabel('Number of Discharges')\n",
    "ax[1].set_ylabel('Excess Readmission Ratio')\n",
    "ax[1].set_ylim([0.5, 2.0])\n",
    "\n",
    "ax[0].grid()\n",
    "ax[1].grid()\n",
    "plt.show()"
   ]
  },
  {
   "cell_type": "markdown",
   "metadata": {},
   "source": [
    "A closer look at the data, we see there are potential outliers on both datasets. Let's take a closer look at them."
   ]
  },
  {
   "cell_type": "code",
   "execution_count": 101,
   "metadata": {
    "scrolled": true
   },
   "outputs": [
    {
     "data": {
      "text/html": [
       "<div>\n",
       "<style scoped>\n",
       "    .dataframe tbody tr th:only-of-type {\n",
       "        vertical-align: middle;\n",
       "    }\n",
       "\n",
       "    .dataframe tbody tr th {\n",
       "        vertical-align: top;\n",
       "    }\n",
       "\n",
       "    .dataframe thead th {\n",
       "        text-align: right;\n",
       "    }\n",
       "</style>\n",
       "<table border=\"1\" class=\"dataframe\">\n",
       "  <thead>\n",
       "    <tr style=\"text-align: right;\">\n",
       "      <th></th>\n",
       "      <th>Hospital Name</th>\n",
       "      <th>Provider Number</th>\n",
       "      <th>State</th>\n",
       "      <th>Measure Name</th>\n",
       "      <th>Number of Discharges</th>\n",
       "      <th>Footnote</th>\n",
       "      <th>Excess Readmission Ratio</th>\n",
       "      <th>Predicted Readmission Rate</th>\n",
       "      <th>Expected Readmission Rate</th>\n",
       "      <th>Number of Readmissions</th>\n",
       "      <th>Start Date</th>\n",
       "      <th>End Date</th>\n",
       "    </tr>\n",
       "  </thead>\n",
       "  <tbody>\n",
       "    <tr>\n",
       "      <th>13666</th>\n",
       "      <td>HOSPITAL FOR SPECIAL SURGERY</td>\n",
       "      <td>330270</td>\n",
       "      <td>NY</td>\n",
       "      <td>READM-30-HIP-KNEE-HRRP</td>\n",
       "      <td>6793</td>\n",
       "      <td>NaN</td>\n",
       "      <td>0.7379</td>\n",
       "      <td>3.9</td>\n",
       "      <td>5.3</td>\n",
       "      <td>258.0</td>\n",
       "      <td>07/01/2010</td>\n",
       "      <td>06/30/2013</td>\n",
       "    </tr>\n",
       "  </tbody>\n",
       "</table>\n",
       "</div>"
      ],
      "text/plain": [
       "                      Hospital Name  Provider Number State  \\\n",
       "13666  HOSPITAL FOR SPECIAL SURGERY           330270    NY   \n",
       "\n",
       "                 Measure Name  Number of Discharges  Footnote  \\\n",
       "13666  READM-30-HIP-KNEE-HRRP                  6793       NaN   \n",
       "\n",
       "       Excess Readmission Ratio  Predicted Readmission Rate  \\\n",
       "13666                    0.7379                         3.9   \n",
       "\n",
       "       Expected Readmission Rate  Number of Readmissions  Start Date  \\\n",
       "13666                        5.3                   258.0  07/01/2010   \n",
       "\n",
       "         End Date  \n",
       "13666  06/30/2013  "
      ]
     },
     "execution_count": 101,
     "metadata": {},
     "output_type": "execute_result"
    }
   ],
   "source": [
    "large_data[large_data['Number of Discharges'] == max(l_discharges)]"
   ]
  },
  {
   "cell_type": "code",
   "execution_count": 102,
   "metadata": {},
   "outputs": [
    {
     "data": {
      "text/html": [
       "<div>\n",
       "<style scoped>\n",
       "    .dataframe tbody tr th:only-of-type {\n",
       "        vertical-align: middle;\n",
       "    }\n",
       "\n",
       "    .dataframe tbody tr th {\n",
       "        vertical-align: top;\n",
       "    }\n",
       "\n",
       "    .dataframe thead th {\n",
       "        text-align: right;\n",
       "    }\n",
       "</style>\n",
       "<table border=\"1\" class=\"dataframe\">\n",
       "  <thead>\n",
       "    <tr style=\"text-align: right;\">\n",
       "      <th></th>\n",
       "      <th>Hospital Name</th>\n",
       "      <th>Provider Number</th>\n",
       "      <th>State</th>\n",
       "      <th>Measure Name</th>\n",
       "      <th>Number of Discharges</th>\n",
       "      <th>Footnote</th>\n",
       "      <th>Excess Readmission Ratio</th>\n",
       "      <th>Predicted Readmission Rate</th>\n",
       "      <th>Expected Readmission Rate</th>\n",
       "      <th>Number of Readmissions</th>\n",
       "      <th>Start Date</th>\n",
       "      <th>End Date</th>\n",
       "    </tr>\n",
       "  </thead>\n",
       "  <tbody>\n",
       "    <tr>\n",
       "      <th>0</th>\n",
       "      <td>FROEDTERT MEMORIAL LUTHERAN HOSPITAL</td>\n",
       "      <td>520177</td>\n",
       "      <td>WI</td>\n",
       "      <td>READM-30-HIP-KNEE-HRRP</td>\n",
       "      <td>242</td>\n",
       "      <td>NaN</td>\n",
       "      <td>1.9095</td>\n",
       "      <td>10.8</td>\n",
       "      <td>5.6</td>\n",
       "      <td>38.0</td>\n",
       "      <td>07/01/2010</td>\n",
       "      <td>06/30/2013</td>\n",
       "    </tr>\n",
       "    <tr>\n",
       "      <th>1</th>\n",
       "      <td>PROVIDENCE HOSPITAL</td>\n",
       "      <td>90006</td>\n",
       "      <td>DC</td>\n",
       "      <td>READM-30-HIP-KNEE-HRRP</td>\n",
       "      <td>247</td>\n",
       "      <td>NaN</td>\n",
       "      <td>1.7521</td>\n",
       "      <td>9.2</td>\n",
       "      <td>5.3</td>\n",
       "      <td>33.0</td>\n",
       "      <td>07/01/2010</td>\n",
       "      <td>06/30/2013</td>\n",
       "    </tr>\n",
       "  </tbody>\n",
       "</table>\n",
       "</div>"
      ],
      "text/plain": [
       "                          Hospital Name  Provider Number State  \\\n",
       "0  FROEDTERT MEMORIAL LUTHERAN HOSPITAL           520177    WI   \n",
       "1                   PROVIDENCE HOSPITAL            90006    DC   \n",
       "\n",
       "             Measure Name  Number of Discharges  Footnote  \\\n",
       "0  READM-30-HIP-KNEE-HRRP                   242       NaN   \n",
       "1  READM-30-HIP-KNEE-HRRP                   247       NaN   \n",
       "\n",
       "   Excess Readmission Ratio  Predicted Readmission Rate  \\\n",
       "0                    1.9095                        10.8   \n",
       "1                    1.7521                         9.2   \n",
       "\n",
       "   Expected Readmission Rate  Number of Readmissions  Start Date    End Date  \n",
       "0                        5.6                    38.0  07/01/2010  06/30/2013  \n",
       "1                        5.3                    33.0  07/01/2010  06/30/2013  "
      ]
     },
     "execution_count": 102,
     "metadata": {},
     "output_type": "execute_result"
    }
   ],
   "source": [
    "small_data.sort_values('Excess Readmission Ratio', ascending=False)[:2]"
   ]
  },
  {
   "cell_type": "markdown",
   "metadata": {},
   "source": [
    "Nothing about these 3 datapoint seem particularly suspicious, and we can't prove that the datapoints aren't real so we won't be removing them from out analysis."
   ]
  },
  {
   "cell_type": "code",
   "execution_count": 111,
   "metadata": {
    "scrolled": true
   },
   "outputs": [
    {
     "name": "stdout",
     "output_type": "stream",
     "text": [
      "Correlation Coefficient for Small Facilities (<= 300): -0.03569207382075737\n",
      "Correlation Coefficient for Large Facilities (> 300): -0.07483162817021674\n"
     ]
    }
   ],
   "source": [
    "small_corr = np.corrcoef(s_discharges, s_readmissions)[0,1]\n",
    "large_corr = np.corrcoef(l_discharges, l_readmissions)[0,1]\n",
    "\n",
    "print ('Correlation Coefficient for Small Facilities (<= 300):', small_corr)\n",
    "print ('Correlation Coefficient for Large Facilities (> 300):', large_corr)"
   ]
  },
  {
   "cell_type": "markdown",
   "metadata": {},
   "source": [
    "Both datasets appear to retain their negative correlation."
   ]
  },
  {
   "cell_type": "markdown",
   "metadata": {},
   "source": [
    "First we will check if there is any statisically signicant difference in excess readmission ratio\n",
    "\n",
    "Null Hypothesis (Ho): mean_diff = 0\n",
    "\n",
    "Alternate Hypothesis (Ha): mean_diff != 0"
   ]
  },
  {
   "cell_type": "code",
   "execution_count": 105,
   "metadata": {},
   "outputs": [
    {
     "name": "stdout",
     "output_type": "stream",
     "text": [
      "Original Sample Mean Difference: 0.014479507404359437\n",
      "Permutated Sample Confidence Interval: [-0.00339646  0.00342035]\n",
      "Permutated Sample Mean Difference: -3.868363555369125e-06\n",
      "p-value 0.0\n"
     ]
    }
   ],
   "source": [
    "empirical_readmission_mean_diff = np.mean(s_readmissions) - np.mean(l_readmissions)\n",
    "\n",
    "readmission_repl = np.empty(10000)\n",
    "\n",
    "all_readmissions = np.concatenate((s_readmissions, l_readmissions))\n",
    "\n",
    "for i in range(10000):\n",
    "    permutated_readmissions = np.random.permutation(all_readmissions)\n",
    "    s_data = permutated_readmissions[:len(s_readmissions)]\n",
    "    l_data = permutated_readmissions[len(s_readmissions):]\n",
    "    readmission_repl[i] = np.mean(s_data) - np.mean(l_data)\n",
    "    \n",
    "p_value = np.sum(readmission_repl >= empirical_readmission_mean_diff) / len(readmission_repl)\n",
    "print ('Original Sample Mean Difference:', empirical_readmission_mean_diff)\n",
    "print ('Permutated Sample Confidence Interval:', np.percentile(readmission_repl, [2.5, 97.5]))\n",
    "print ('Permutated Sample Mean Difference:', np.mean(readmission_repl))\n",
    "print ('p-value', p_value)"
   ]
  },
  {
   "cell_type": "markdown",
   "metadata": {},
   "source": [
    "In 10,000 trials of the null hypothesis, the difference in mean that extreme occured 0/10000 times.\n",
    "\n",
    "The p-value of 0.0 (<0.01) supports that the difference between the two groups are statiscally significant. On average, smaller facilities (<= 300 discharges) have a higher excess readmission ratio compared to larger facilities."
   ]
  },
  {
   "cell_type": "markdown",
   "metadata": {},
   "source": [
    "### 4. Discuss statistical significance and practical significance. Do they differ here? How does this change your recommendation to the client?"
   ]
  },
  {
   "cell_type": "markdown",
   "metadata": {},
   "source": [
    "In theory, statistical significance determines if the acquired statistic is due to sampling error, while pratical significance determines if the statistic is of any practical value.\n",
    "\n",
    "There is statisical significance supporting presence of the negative correlation between number of discharges and the excess readmission ratio, but a review of practical significance would show that the correlation (-0.097) is not large enough to be of any value. In attempt to reduce readmission rates, focusing changes on smaller facilities would not be cost effective. Although on average, smaller facilities have a higher excess readmission ratio (1.44% higher) compared to larger facilities, if we calculate the actual number of readmissions, larger facilities generally have a larger number of actual readmissions. This suggests that it is necessary to improve care in facilities of all sizes."
   ]
  },
  {
   "cell_type": "markdown",
   "metadata": {},
   "source": [
    "### 5. Look at the scatterplot above.\n",
    "What are the advantages and disadvantages of using this plot to convey information?\n",
    "Construct another plot that conveys the same information in a more direct manner."
   ]
  },
  {
   "cell_type": "markdown",
   "metadata": {},
   "source": [
    "The provided scatterplot does a complete analysis of the entire data which allows for the audience to visualize the general trend of the data, and understand how the data is condensed. However, by shading parts of the grid (namely the green shading), it adds bias to the graph which magnifies the negative correlation out of proportion. I believe a better way to portray the data is excluding the shading, and adding a best of fit line to visually portray the correlation."
   ]
  },
  {
   "cell_type": "code",
   "execution_count": 143,
   "metadata": {},
   "outputs": [
    {
     "data": {
      "image/png": "[encoded data removed]",
      "text/plain": [
       "<matplotlib.figure.Figure at 0x2a8dc992b70>"
      ]
     },
     "metadata": {},
     "output_type": "display_data"
    }
   ],
   "source": [
    "fig, ax = plt.subplots(figsize=(8,5))\n",
    "ax.scatter(x, y,alpha=0.2)\n",
    "\n",
    "ax.set_xlim([0, max(x)])\n",
    "ax.set_xlabel('Number of discharges', fontsize=12)\n",
    "ax.set_ylabel('Excess rate of readmissions', fontsize=12)\n",
    "ax.set_title('Scatterplot of number of discharges vs. excess rate of readmissions', fontsize=14)\n",
    "\n",
    "ax.plot(np.unique(cleaned_df['Number of Discharges']),\n",
    "                   np.poly1d(np.polyfit(cleaned_df['Number of Discharges'], cleaned_df['Excess Readmission Ratio'], 1))\n",
    "                   (np.unique(cleaned_df['Number of Discharges'])), color='red')\n",
    "\n",
    "fig.text(0.65, 0.85, r'Pearson Coefficient: -0.097', fontsize = 12)\n",
    "\n",
    "ax.grid(True)\n",
    "fig.tight_layout()"
   ]
  }
 ],
 "metadata": {
  "anaconda-cloud": {},
  "kernelspec": {
   "display_name": "Python 3",
   "language": "python",
   "name": "python3"
  },
  "language_info": {
   "codemirror_mode": {
    "name": "ipython",
    "version": 3
   },
   "file_extension": ".py",
   "mimetype": "text/x-python",
   "name": "python",
   "nbconvert_exporter": "python",
   "pygments_lexer": "ipython3",
   "version": "3.6.4"
  }
 },
 "nbformat": 4,
 "nbformat_minor": 1
}
